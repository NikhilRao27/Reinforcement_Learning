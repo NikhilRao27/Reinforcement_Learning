{
 "cells": [
  {
   "cell_type": "markdown",
   "id": "c0c80645-7619-4ecf-ba5e-c4440a3a9829",
   "metadata": {},
   "source": [
    "# Reinforcement Learning for Autonomous Driving"
   ]
  },
  {
   "cell_type": "markdown",
   "id": "29e70777-df63-44cf-a755-ab8a1a409532",
   "metadata": {
    "tags": []
   },
   "source": [
    "##  1.import dependencies"
   ]
  },
  {
   "cell_type": "code",
   "execution_count": 1,
   "id": "bd111b83-7a35-4a8e-892a-d7235745e63c",
   "metadata": {
    "tags": []
   },
   "outputs": [
    {
     "name": "stdout",
     "output_type": "stream",
     "text": [
      "Requirement already satisfied: gym[box2d] in c:\\users\\nikta\\anaconda3\\lib\\site-packages (0.26.2)\n",
      "Collecting pyglet\n",
      "  Using cached pyglet-2.0.9-py3-none-any.whl (854 kB)\n",
      "Requirement already satisfied: importlib-metadata>=4.8.0 in c:\\users\\nikta\\anaconda3\\lib\\site-packages (from gym[box2d]) (4.11.3)\n",
      "Requirement already satisfied: cloudpickle>=1.2.0 in c:\\users\\nikta\\anaconda3\\lib\\site-packages (from gym[box2d]) (2.0.0)\n",
      "Requirement already satisfied: numpy>=1.18.0 in c:\\users\\nikta\\anaconda3\\lib\\site-packages (from gym[box2d]) (1.21.5)\n",
      "Requirement already satisfied: gym-notices>=0.0.4 in c:\\users\\nikta\\anaconda3\\lib\\site-packages (from gym[box2d]) (0.0.8)\n",
      "Requirement already satisfied: pygame==2.1.0 in c:\\users\\nikta\\anaconda3\\lib\\site-packages (from gym[box2d]) (2.1.0)\n",
      "Collecting box2d-py==2.3.5\n",
      "  Using cached box2d-py-2.3.5.tar.gz (374 kB)\n",
      "Requirement already satisfied: swig==4.* in c:\\users\\nikta\\anaconda3\\lib\\site-packages (from gym[box2d]) (4.1.1)\n",
      "Requirement already satisfied: zipp>=0.5 in c:\\users\\nikta\\anaconda3\\lib\\site-packages (from importlib-metadata>=4.8.0->gym[box2d]) (3.7.0)\n",
      "Building wheels for collected packages: box2d-py\n",
      "  Building wheel for box2d-py (setup.py): started\n",
      "  Building wheel for box2d-py (setup.py): finished with status 'done'\n",
      "  Created wheel for box2d-py: filename=box2d_py-2.3.5-cp39-cp39-win_amd64.whl size=433854 sha256=ad21aab5be33e6017e86251beb553a2c7736bd5a7fc1e30fbcf54ed96241ddf9\n",
      "  Stored in directory: c:\\users\\nikta\\appdata\\local\\pip\\cache\\wheels\\a4\\c2\\c1\\076651c394f05fe60990cd85616c2d95bc1619aa113f559d7d\n",
      "Successfully built box2d-py\n",
      "Installing collected packages: box2d-py, pyglet\n",
      "Successfully installed box2d-py-2.3.5 pyglet-2.0.9\n"
     ]
    }
   ],
   "source": [
    "!pip install gym[box2d] pyglet"
   ]
  },
  {
   "cell_type": "code",
   "execution_count": 1,
   "id": "f474ce67-d054-4432-aad7-c2fb6803f77b",
   "metadata": {},
   "outputs": [],
   "source": [
    "import gym\n",
    "from  stable_baselines3 import PPO\n",
    "from stable_baselines3.common.vec_env import DummyVecEnv\n",
    "from stable_baselines3.common.evaluation import evaluate_policy"
   ]
  },
  {
   "cell_type": "code",
   "execution_count": 2,
   "id": "98acc298-fc89-4b30-9a85-807d877040bc",
   "metadata": {
    "tags": []
   },
   "outputs": [],
   "source": [
    "environment_name = \"CarRacing-v2\"\n",
    "env = gym.make(environment_name,render_mode='human')"
   ]
  },
  {
   "cell_type": "code",
   "execution_count": 27,
   "id": "e63012a6-f871-4362-bac2-78896d8ee762",
   "metadata": {},
   "outputs": [
    {
     "data": {
      "text/plain": [
       "Box([-1.  0.  0.], 1.0, (3,), float32)"
      ]
     },
     "execution_count": 27,
     "metadata": {},
     "output_type": "execute_result"
    }
   ],
   "source": [
    "env.action_space"
   ]
  },
  {
   "cell_type": "code",
   "execution_count": 28,
   "id": "f7c7504b-e1c3-4eb2-8840-a37d96245c9a",
   "metadata": {},
   "outputs": [
    {
     "data": {
      "text/plain": [
       "Box(0, 255, (96, 96, 3), uint8)"
      ]
     },
     "execution_count": 28,
     "metadata": {},
     "output_type": "execute_result"
    }
   ],
   "source": [
    "env.observation_space"
   ]
  },
  {
   "cell_type": "code",
   "execution_count": 5,
   "id": "6a82782b-4836-4091-b612-c638159fa039",
   "metadata": {},
   "outputs": [
    {
     "data": {
      "text/plain": [
       "(array([[[0, 0, 0],\n",
       "         [0, 0, 0],\n",
       "         [0, 0, 0],\n",
       "         ...,\n",
       "         [0, 0, 0],\n",
       "         [0, 0, 0],\n",
       "         [0, 0, 0]],\n",
       " \n",
       "        [[0, 0, 0],\n",
       "         [0, 0, 0],\n",
       "         [0, 0, 0],\n",
       "         ...,\n",
       "         [0, 0, 0],\n",
       "         [0, 0, 0],\n",
       "         [0, 0, 0]],\n",
       " \n",
       "        [[0, 0, 0],\n",
       "         [0, 0, 0],\n",
       "         [0, 0, 0],\n",
       "         ...,\n",
       "         [0, 0, 0],\n",
       "         [0, 0, 0],\n",
       "         [0, 0, 0]],\n",
       " \n",
       "        ...,\n",
       " \n",
       "        [[0, 0, 0],\n",
       "         [0, 0, 0],\n",
       "         [0, 0, 0],\n",
       "         ...,\n",
       "         [0, 0, 0],\n",
       "         [0, 0, 0],\n",
       "         [0, 0, 0]],\n",
       " \n",
       "        [[0, 0, 0],\n",
       "         [0, 0, 0],\n",
       "         [0, 0, 0],\n",
       "         ...,\n",
       "         [0, 0, 0],\n",
       "         [0, 0, 0],\n",
       "         [0, 0, 0]],\n",
       " \n",
       "        [[0, 0, 0],\n",
       "         [0, 0, 0],\n",
       "         [0, 0, 0],\n",
       "         ...,\n",
       "         [0, 0, 0],\n",
       "         [0, 0, 0],\n",
       "         [0, 0, 0]]], dtype=uint8),\n",
       " {})"
      ]
     },
     "execution_count": 5,
     "metadata": {},
     "output_type": "execute_result"
    }
   ],
   "source": [
    "env.reset()"
   ]
  },
  {
   "cell_type": "code",
   "execution_count": 25,
   "id": "617a44d1-15ad-4050-96e8-f76852ffc760",
   "metadata": {},
   "outputs": [
    {
     "data": {
      "text/plain": [
       "True"
      ]
     },
     "execution_count": 25,
     "metadata": {},
     "output_type": "execute_result"
    }
   ],
   "source": [
    "env.render()"
   ]
  },
  {
   "cell_type": "code",
   "execution_count": 26,
   "id": "1a29efd4-0dea-4071-b080-1491c647c12b",
   "metadata": {},
   "outputs": [],
   "source": [
    "env.close()"
   ]
  },
  {
   "cell_type": "code",
   "execution_count": 29,
   "id": "955c8665-2423-4160-a854-6ac19e67bd99",
   "metadata": {},
   "outputs": [],
   "source": [
    "#z# training env"
   ]
  },
  {
   "cell_type": "code",
   "execution_count": null,
   "id": "d7ae41d4-9574-4170-9247-5adaf3eb7afa",
   "metadata": {},
   "outputs": [],
   "source": [
    "\n",
    "env = gym.make(environment_name,render_mode='human')\n",
    "\n",
    "episodes = 1\n",
    "for episode in range(1,episodes+1):\n",
    "    obs = env.reset()\n",
    "    done = False\n",
    "    score =0 \n",
    "    \n",
    "    while not done:\n",
    "        env.render()\n",
    "        action = env.action_space.sample()\n",
    "        obs,reward,done,_,_ = env.step(action)\n",
    "        score += reward\n",
    "        if(score<-50):\n",
    "            exit\n",
    "    print('episode:{} score :{}'.format(episode,score))\n",
    "#env.close()\n",
    "\n"
   ]
  },
  {
   "cell_type": "code",
   "execution_count": null,
   "id": "7ef96087-45f6-4aab-adad-ecad4517febb",
   "metadata": {},
   "outputs": [],
   "source": [
    "env.close()"
   ]
  },
  {
   "cell_type": "markdown",
   "id": "738946b3-fe72-423a-96bc-716eddab84b3",
   "metadata": {
    "tags": []
   },
   "source": [
    "## train model"
   ]
  },
  {
   "cell_type": "code",
   "execution_count": 3,
   "id": "1d64ad9c-c866-41ef-a82e-f8532f8f2e15",
   "metadata": {},
   "outputs": [
    {
     "name": "stderr",
     "output_type": "stream",
     "text": [
      "C:\\Users\\nikta\\anaconda3\\lib\\site-packages\\stable_baselines3\\common\\vec_env\\patch_gym.py:49: UserWarning: You provided an OpenAI Gym environment. We strongly recommend transitioning to Gymnasium environments. Stable-Baselines3 is automatically wrapping your environments in a compatibility layer, which could potentially cause issues.\n",
      "  warnings.warn(\n"
     ]
    }
   ],
   "source": [
    "env = gym.make(environment_name)\n",
    "env = DummyVecEnv([lambda:env])"
   ]
  },
  {
   "cell_type": "code",
   "execution_count": 4,
   "id": "51f186f0-a0e8-4679-8f28-58983a4a1fba",
   "metadata": {},
   "outputs": [
    {
     "name": "stdout",
     "output_type": "stream",
     "text": [
      "Using cpu device\n",
      "Wrapping the env in a VecTransposeImage.\n"
     ]
    }
   ],
   "source": [
    "import os\n",
    "log_path = os.path.join('Training','logs')\n",
    "model = PPO('CnnPolicy',env,verbose=1,tensorboard_log=log_path)"
   ]
  },
  {
   "cell_type": "code",
   "execution_count": 9,
   "id": "4c6123a9-cabd-4f79-9c82-2a56b34e4bab",
   "metadata": {},
   "outputs": [
    {
     "name": "stdout",
     "output_type": "stream",
     "text": [
      "Logging to Training\\logs\\PPO_2\n",
      "-----------------------------\n",
      "| time/              |      |\n",
      "|    fps             | 47   |\n",
      "|    iterations      | 1    |\n",
      "|    time_elapsed    | 42   |\n",
      "|    total_timesteps | 2048 |\n",
      "-----------------------------\n",
      "-----------------------------------------\n",
      "| time/                   |             |\n",
      "|    fps                  | 34          |\n",
      "|    iterations           | 2           |\n",
      "|    time_elapsed         | 119         |\n",
      "|    total_timesteps      | 4096        |\n",
      "| train/                  |             |\n",
      "|    approx_kl            | 0.005066741 |\n",
      "|    clip_fraction        | 0.0798      |\n",
      "|    clip_range           | 0.2         |\n",
      "|    entropy_loss         | -4.26       |\n",
      "|    explained_variance   | -0.0108     |\n",
      "|    learning_rate        | 0.0003      |\n",
      "|    loss                 | 0.253       |\n",
      "|    n_updates            | 10          |\n",
      "|    policy_gradient_loss | -0.00606    |\n",
      "|    std                  | 1           |\n",
      "|    value_loss           | 0.679       |\n",
      "-----------------------------------------\n",
      "------------------------------------------\n",
      "| time/                   |              |\n",
      "|    fps                  | 32           |\n",
      "|    iterations           | 3            |\n",
      "|    time_elapsed         | 191          |\n",
      "|    total_timesteps      | 6144         |\n",
      "| train/                  |              |\n",
      "|    approx_kl            | 0.0085479785 |\n",
      "|    clip_fraction        | 0.111        |\n",
      "|    clip_range           | 0.2          |\n",
      "|    entropy_loss         | -4.23        |\n",
      "|    explained_variance   | -0.0516      |\n",
      "|    learning_rate        | 0.0003       |\n",
      "|    loss                 | 0.176        |\n",
      "|    n_updates            | 20           |\n",
      "|    policy_gradient_loss | -0.00692     |\n",
      "|    std                  | 0.986        |\n",
      "|    value_loss           | 0.41         |\n",
      "------------------------------------------\n",
      "-----------------------------------------\n",
      "| time/                   |             |\n",
      "|    fps                  | 31          |\n",
      "|    iterations           | 4           |\n",
      "|    time_elapsed         | 260         |\n",
      "|    total_timesteps      | 8192        |\n",
      "| train/                  |             |\n",
      "|    approx_kl            | 0.010211084 |\n",
      "|    clip_fraction        | 0.0993      |\n",
      "|    clip_range           | 0.2         |\n",
      "|    entropy_loss         | -4.19       |\n",
      "|    explained_variance   | 0.0857      |\n",
      "|    learning_rate        | 0.0003      |\n",
      "|    loss                 | 0.145       |\n",
      "|    n_updates            | 30          |\n",
      "|    policy_gradient_loss | -0.00982    |\n",
      "|    std                  | 0.969       |\n",
      "|    value_loss           | 0.435       |\n",
      "-----------------------------------------\n",
      "-----------------------------------------\n",
      "| time/                   |             |\n",
      "|    fps                  | 31          |\n",
      "|    iterations           | 5           |\n",
      "|    time_elapsed         | 323         |\n",
      "|    total_timesteps      | 10240       |\n",
      "| train/                  |             |\n",
      "|    approx_kl            | 0.009319381 |\n",
      "|    clip_fraction        | 0.109       |\n",
      "|    clip_range           | 0.2         |\n",
      "|    entropy_loss         | -4.15       |\n",
      "|    explained_variance   | 0.104       |\n",
      "|    learning_rate        | 0.0003      |\n",
      "|    loss                 | 0.149       |\n",
      "|    n_updates            | 40          |\n",
      "|    policy_gradient_loss | -0.0134     |\n",
      "|    std                  | 0.96        |\n",
      "|    value_loss           | 0.334       |\n",
      "-----------------------------------------\n"
     ]
    },
    {
     "data": {
      "text/plain": [
       "<stable_baselines3.ppo.ppo.PPO at 0x2181a183820>"
      ]
     },
     "execution_count": 9,
     "metadata": {},
     "output_type": "execute_result"
    }
   ],
   "source": [
    "model.learn(total_timesteps=10000)"
   ]
  },
  {
   "cell_type": "code",
   "execution_count": 20,
   "id": "5ce94327-80f7-409d-9972-8b4badd3a262",
   "metadata": {},
   "outputs": [],
   "source": [
    "model.save('models/PP0_CAR_racing_10k')"
   ]
  },
  {
   "cell_type": "code",
   "execution_count": 1,
   "id": "40d8d253-44a6-47dd-a525-b4836aa110fa",
   "metadata": {},
   "outputs": [
    {
     "name": "stdout",
     "output_type": "stream",
     "text": [
      "a\n"
     ]
    }
   ],
   "source": [
    "## test the mode"
   ]
  },
  {
   "cell_type": "code",
   "execution_count": 27,
   "id": "450de933-f6ef-448d-8531-4c1536470b00",
   "metadata": {},
   "outputs": [],
   "source": [
    "#using the pretrained model ....\n",
    "#model.load(\"models/PPO_2m_Driving_model_2.zip\")"
   ]
  },
  {
   "cell_type": "code",
   "execution_count": 28,
   "id": "33278eb0-b3f2-40df-9e92-7e53a0216553",
   "metadata": {},
   "outputs": [
    {
     "data": {
      "text/plain": [
       "(-66.5427520275116, 0.0)"
      ]
     },
     "execution_count": 28,
     "metadata": {},
     "output_type": "execute_result"
    }
   ],
   "source": [
    "env = gym.make(environment_name,render_mode='human')\n",
    "#env.render( 'human')\n",
    "evaluate_policy(model,env,n_eval_episodes=1,render=True)"
   ]
  },
  {
   "cell_type": "code",
   "execution_count": 29,
   "id": "1fea1bc0-afc4-481b-8cc7-58b4d2a27580",
   "metadata": {},
   "outputs": [],
   "source": [
    "env.close()"
   ]
  },
  {
   "cell_type": "code",
   "execution_count": null,
   "id": "512bb7a1-cc3f-419b-ad22-1c3bae5ef8e0",
   "metadata": {},
   "outputs": [],
   "source": []
  }
 ],
 "metadata": {
  "kernelspec": {
   "display_name": "Python 3 (ipykernel)",
   "language": "python",
   "name": "python3"
  },
  "language_info": {
   "codemirror_mode": {
    "name": "ipython",
    "version": 3
   },
   "file_extension": ".py",
   "mimetype": "text/x-python",
   "name": "python",
   "nbconvert_exporter": "python",
   "pygments_lexer": "ipython3",
   "version": "3.9.12"
  }
 },
 "nbformat": 4,
 "nbformat_minor": 5
}
